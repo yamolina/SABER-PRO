{
  "nbformat": 4,
  "nbformat_minor": 0,
  "metadata": {
    "colab": {
      "private_outputs": true,
      "provenance": [],
      "collapsed_sections": [
        "f1-JVdd7IN0h",
        "XkU3o4VKNiIa",
        "-2YuWOvaoCM5"
      ],
      "cell_execution_strategy": "setup"
    },
    "kernelspec": {
      "name": "python3",
      "display_name": "Python 3"
    },
    "language_info": {
      "name": "python"
    }
  },
  "cells": [
    {
      "cell_type": "code",
      "source": [
        "import pandas as pd\n",
        "import numpy as np\n",
        "import statsmodels.api as sm\n",
        "from statsmodels.formula.api import ols\n",
        "from statsmodels.stats.multicomp import pairwise_tukeyhsd, MultiComparison\n",
        "import matplotlib.pyplot as plt\n",
        "import scipy.stats as stats\n",
        "from google.colab import drive\n",
        "import seaborn as sns\n",
        "from scipy.stats import mannwhitneyu\n",
        "import itertools\n"
      ],
      "metadata": {
        "id": "MFqCc6tSJpj_"
      },
      "execution_count": null,
      "outputs": []
    },
    {
      "cell_type": "code",
      "source": [
        "from sklearn.tree import DecisionTreeRegressor\n",
        "from sklearn.tree import export_text\n",
        "from sklearn.feature_extraction import DictVectorizer\n",
        "from sklearn.model_selection import train_test_split\n",
        "from sklearn.metrics import mean_squared_error\n",
        "from sklearn import tree\n",
        "from sklearn.ensemble import RandomForestRegressor\n",
        "from sklearn.tree import plot_tree\n",
        "\n"
      ],
      "metadata": {
        "id": "czr6HZ3NPgOq"
      },
      "execution_count": null,
      "outputs": []
    },
    {
      "cell_type": "markdown",
      "source": [
        "Subida de archivo al entorno- Se encuentra en la carpeta SABER PRO en documentos\n",
        "El archivo ya está segmentado según el grupo de referencia y el carácter de la institución"
      ],
      "metadata": {
        "id": "asKyvqoQ6rpi"
      }
    },
    {
      "cell_type": "code",
      "source": [
        "#data= pd.read_csv (\"https://github.com/yamolina/SABER-PRO/raw/main/CIENCIAS_ECONOMICAS_.csv\")\n",
        "data= pd.read_excel (\"https://github.com/yamolina/SABER-PRO/raw/main/CIENCIAS_ECONOMICAS_OK.xlsx\")"
      ],
      "metadata": {
        "id": "Y5UHFsjImtz-"
      },
      "execution_count": null,
      "outputs": []
    },
    {
      "cell_type": "code",
      "source": [
        "#data = pd.read_excel(\"CIENCIAS_ECONOMICAS_OK.xlsx\", engine='openpyxl')"
      ],
      "metadata": {
        "id": "RmjsI0i0x90o"
      },
      "execution_count": null,
      "outputs": []
    },
    {
      "cell_type": "code",
      "source": [
        "# Obtener la lista de todas las columnas\n",
        "columnas = data.columns.tolist()\n",
        "\n",
        "# Imprimir la lista de columnas\n",
        "print(columnas)"
      ],
      "metadata": {
        "id": "hSobSV12OOhA"
      },
      "execution_count": null,
      "outputs": []
    },
    {
      "cell_type": "markdown",
      "source": [
        "#***Descripción de los Datos***"
      ],
      "metadata": {
        "id": "bl3nexFrFEqQ"
      }
    },
    {
      "cell_type": "markdown",
      "source": [
        "## descripción"
      ],
      "metadata": {
        "id": "2Rgo5npKIXFB"
      }
    },
    {
      "cell_type": "code",
      "source": [
        "data['ESTU_NIVEL_PRGM_ACADEMICO'].value_counts()"
      ],
      "metadata": {
        "id": "uTVKWuYQAVKP"
      },
      "execution_count": null,
      "outputs": []
    },
    {
      "cell_type": "code",
      "source": [
        "data['GRUPOREFERENCIA'].value_counts()"
      ],
      "metadata": {
        "id": "7fTBWK9tWOSV"
      },
      "execution_count": null,
      "outputs": []
    },
    {
      "cell_type": "markdown",
      "source": [
        "En total hay 22165 registros con 109 variables"
      ],
      "metadata": {
        "id": "imqtISHmRTas"
      }
    },
    {
      "cell_type": "code",
      "source": [
        "data['INST_CARACTER_ACADEMICO'].value_counts()"
      ],
      "metadata": {
        "id": "24LF5mnVUUX0"
      },
      "execution_count": null,
      "outputs": []
    },
    {
      "cell_type": "code",
      "source": [
        "data ['ESTU_VALORMATRICULAUNIVERSIDAD'].value_counts()"
      ],
      "metadata": {
        "id": "uXXPDdhuFb2u"
      },
      "execution_count": null,
      "outputs": []
    },
    {
      "cell_type": "code",
      "source": [
        "data = data[data['ESTU_VALORMATRICULAUNIVERSIDAD']!= \"No pagó matrícula\"] #selección de registros de estudiantes que han pagado la matrícula universitaria y excluyendo los registros de estudiantes que no la han pagado."
      ],
      "metadata": {
        "id": "mlJMEMVCQwAz"
      },
      "execution_count": null,
      "outputs": []
    },
    {
      "cell_type": "code",
      "source": [
        "data.dropna(subset=['ESTU_VALORMATRICULAUNIVERSIDAD'], inplace=True)"
      ],
      "metadata": {
        "id": "N4z0SolDPZhL"
      },
      "execution_count": null,
      "outputs": []
    },
    {
      "cell_type": "code",
      "source": [
        "data ['ESTU_VALORMATRICULAUNIVERSIDAD'].value_counts()"
      ],
      "metadata": {
        "id": "bLfHGR4QkWhz"
      },
      "execution_count": null,
      "outputs": []
    },
    {
      "cell_type": "code",
      "source": [
        "data ['ESTU_METODO_PRGM'].value_counts()"
      ],
      "metadata": {
        "id": "xBgGLVDQfh0C"
      },
      "execution_count": null,
      "outputs": []
    },
    {
      "cell_type": "code",
      "source": [
        "# Realizas la agrupación por las categorías deseadas\n",
        "grouped = data.groupby(['ESTU_VALORMATRICULAUNIVERSIDAD', 'ESTU_METODO_PRGM', 'INST_CARACTER_ACADEMICO'])\n",
        "\n",
        "# Calculas el promedio de 'PUNT_GLOBAL'\n",
        "mean_scores = grouped['PUNT_GLOBAL'].mean().reset_index(name='MEAN_PUNT_GLOBAL')\n",
        "\n",
        "# Calculas el conteo para cada grupo usando la misma agrupación\n",
        "counts = grouped['PUNT_GLOBAL'].count().reset_index(name='COUNT')\n",
        "\n",
        "# Combina los resultados del promedio con los conteos\n",
        "result = pd.merge(mean_scores, counts, on=['ESTU_VALORMATRICULAUNIVERSIDAD', 'ESTU_METODO_PRGM', 'INST_CARACTER_ACADEMICO'])\n",
        "\n",
        "result"
      ],
      "metadata": {
        "id": "OWnx76jsQzH1"
      },
      "execution_count": null,
      "outputs": []
    },
    {
      "cell_type": "code",
      "source": [
        "data = data[~((data['ESTU_VALORMATRICULAUNIVERSIDAD'] == 'Más de 7 millones') & (data['ESTU_METODO_PRGM'] != 'PRESENCIAL'))]"
      ],
      "metadata": {
        "id": "Xtv_oBvb0qQa"
      },
      "execution_count": null,
      "outputs": []
    },
    {
      "cell_type": "code",
      "source": [
        "data = data[~((data['ESTU_VALORMATRICULAUNIVERSIDAD'] == 'Más de 7 millones') & (data['INST_CARACTER_ACADEMICO'] == 'INSTITUCIÓN TECNOLÓGICA'))]\n"
      ],
      "metadata": {
        "id": "pkiMjmve01nK"
      },
      "execution_count": null,
      "outputs": []
    },
    {
      "cell_type": "markdown",
      "source": [
        "## exploración y test de distribucion"
      ],
      "metadata": {
        "id": "7avV2bsRf3tX"
      }
    },
    {
      "cell_type": "markdown",
      "source": [
        "###**Valor Matrícula**"
      ],
      "metadata": {
        "id": "ccq3uFy1mfue"
      }
    },
    {
      "cell_type": "code",
      "source": [
        "h1 = data.groupby(['ESTU_VALORMATRICULAUNIVERSIDAD'])['PUNT_GLOBAL'].mean().reset_index()\n",
        "h1 = h1.sort_values(by=['PUNT_GLOBAL'], ascending=True)\n",
        "print(h1)"
      ],
      "metadata": {
        "id": "e_WebdmWn-Zz"
      },
      "execution_count": null,
      "outputs": []
    },
    {
      "cell_type": "code",
      "source": [
        "#test de kruskal\n",
        "\n",
        "l = data.ESTU_VALORMATRICULAUNIVERSIDAD.value_counts().index\n",
        "pvalues = []\n",
        "s_ = []\n",
        "\n",
        "for k,m in enumerate(l):\n",
        "  s = data.loc[data[\"ESTU_VALORMATRICULAUNIVERSIDAD\"]== m,\"PUNT_GLOBAL\"]\n",
        "  s_.append(s)\n",
        "  test = stats.normaltest(s)\n",
        "  pvalues.append(test.pvalue)\n",
        "\n",
        "kw_test = stats.kruskal(*s_)"
      ],
      "metadata": {
        "id": "r3qMt-Limso3"
      },
      "execution_count": null,
      "outputs": []
    },
    {
      "cell_type": "code",
      "source": [
        "#resultado importante del test (medianas por ser no parametrico)\n",
        "kw_test"
      ],
      "metadata": {
        "id": "Cyfu4b_RnDZh"
      },
      "execution_count": null,
      "outputs": []
    },
    {
      "cell_type": "code",
      "source": [
        "pvalues"
      ],
      "metadata": {
        "id": "3kGV3LpxnIV_"
      },
      "execution_count": null,
      "outputs": []
    },
    {
      "cell_type": "code",
      "source": [
        "# Supongamos que 's_' es tu lista de series, donde cada serie corresponde a un grupo diferente.\n",
        "# El número total de comparaciones es n*(n-1)/2, donde n es el número de grupos.\n",
        "\n",
        "# Calcula el número total de comparaciones\n",
        "num_comparisons = len(s_) * (len(s_) - 1) / 2\n",
        "\n",
        "# Nivel de significancia ajustado\n",
        "alpha_adjusted = 0.05 / num_comparisons\n",
        "\n",
        "# Lista para almacenar los resultados\n",
        "post_hoc_results = []\n",
        "\n",
        "# Itera sobre cada combinación única de pares de grupos\n",
        "for group1, group2 in itertools.combinations(range(len(s_)), 2):\n",
        "    stat, pvalue = mannwhitneyu(s_[group1], s_[group2], alternative='two-sided')\n",
        "    # Añade los resultados a la lista\n",
        "    post_hoc_results.append({\n",
        "        'Grupo1': group1,\n",
        "        'Grupo2': group2,\n",
        "        'U-Statistic': stat,\n",
        "        'P-Value': pvalue,\n",
        "        'Significativo': pvalue < alpha_adjusted\n",
        "    })\n",
        "\n",
        "# Convierte los resultados a un DataFrame para una mejor visualización\n",
        "post_hoc_df = pd.DataFrame(post_hoc_results)\n",
        "\n",
        "# Muestra los resultados\n",
        "print(post_hoc_df)\n"
      ],
      "metadata": {
        "id": "yu9_TgBHrCh4"
      },
      "execution_count": null,
      "outputs": []
    },
    {
      "cell_type": "code",
      "source": [
        "vmatricula = {\n",
        "    \"Menos de 500 mil\":\"menos de 1 millon\",\n",
        "    \"Entre 500 mil y menos de 1 millón\":\"menos de 1 millon\",\n",
        "    \"Entre 1 millón y menos de 2.5 millones\":\"entre 1 y 2.5 millones\",\n",
        "    \"Entre 2.5 millones y menos de 4 millones\":\"entre 2.5 y 4 millones\",\n",
        "    \"Entre 4 millones y menos de 5.5 millones\": \"entre 4 y 5.5 millones\",\n",
        "    \"Entre 5.5 millones y menos de 7 millones\": \"entre 5.5 y 7 millones\"\n",
        "\n",
        "} #Asignación de categorías según el valor pagado en la matrícula"
      ],
      "metadata": {
        "id": "_1v8eBDntiue"
      },
      "execution_count": null,
      "outputs": []
    },
    {
      "cell_type": "code",
      "source": [
        "data['ESTU_VALORMATRICULAUNIVERSIDADB']= data['ESTU_VALORMATRICULAUNIVERSIDAD'].replace(vmatricula) #creación de nueva columna en el DataFrame 'data' que contiene los valores de matrícula universitaria transformados utilizando el diccionario vmatricula."
      ],
      "metadata": {
        "id": "9n3o_wA_twCe"
      },
      "execution_count": null,
      "outputs": []
    },
    {
      "cell_type": "code",
      "source": [
        "h1B = data.groupby(['ESTU_VALORMATRICULAUNIVERSIDADB'])['PUNT_GLOBAL'].mean().reset_index()\n",
        "#h3.describe()\n",
        "h1B = h1B.sort_values(by = ['PUNT_GLOBAL'], ascending = True)\n",
        "print(h1B)"
      ],
      "metadata": {
        "id": "Dh2aoBneuWYH"
      },
      "execution_count": null,
      "outputs": []
    },
    {
      "cell_type": "code",
      "source": [
        "h1B = data.groupby(['ESTU_VALORMATRICULAUNIVERSIDADB']).mean()\n",
        "#h3.describe()\n",
        "h1B = h1B.sort_values(by = ['PUNT_GLOBAL'], ascending = True)\n",
        "\n",
        "fig, ax = plt.subplots(1,1,figsize=(10,5), dpi = 100)\n",
        "mat_punt = sns.violinplot(x = data[\"ESTU_VALORMATRICULAUNIVERSIDADB\"], y = data[\"PUNT_GLOBAL\"], ax = ax, order=h1B.index)\n",
        "labs = ax.set(xlabel='Valor', ylabel='Puntaje')\n",
        "plt.xticks(rotation = -30, ha = \"left\")"
      ],
      "metadata": {
        "id": "5lsBSPhLruJW"
      },
      "execution_count": null,
      "outputs": []
    },
    {
      "cell_type": "code",
      "source": [
        "data[\"ESTU_VALORMATRICULAUNIVERSIDADB\"].value_counts()"
      ],
      "metadata": {
        "id": "78LXspO4zDTZ"
      },
      "execution_count": null,
      "outputs": []
    },
    {
      "cell_type": "markdown",
      "source": [
        "###**MÉTODO DE ESTUDIO**"
      ],
      "metadata": {
        "id": "f1-JVdd7IN0h"
      }
    },
    {
      "cell_type": "code",
      "source": [
        "h2 = data.groupby(['ESTU_METODO_PRGM'])['PUNT_GLOBAL'].mean().reset_index()\n",
        "h2 = h2.sort_values(by=['PUNT_GLOBAL'], ascending=True)\n",
        "print(h2)"
      ],
      "metadata": {
        "id": "lrJwZ5vKw2_y"
      },
      "execution_count": null,
      "outputs": []
    },
    {
      "cell_type": "code",
      "source": [
        "h2A = data.groupby(['ESTU_METODO_PRGM']).describe()['PUNT_GLOBAL'].reset_index()\n",
        "#h2A = h7.sort_values(by = ['PUNT_GLOBAL'], ascending = True)\n",
        "h2A"
      ],
      "metadata": {
        "id": "COoTai6FIQK4"
      },
      "execution_count": null,
      "outputs": []
    },
    {
      "cell_type": "code",
      "source": [
        "#test de kruskal\n",
        "\n",
        "l = data.ESTU_METODO_PRGM.value_counts().index\n",
        "pvalues = []\n",
        "s_ = []\n",
        "\n",
        "for k,m in enumerate(l):\n",
        "  s = data.loc[data[\"ESTU_METODO_PRGM\"]== m,\"PUNT_GLOBAL\"]\n",
        "  s_.append(s)\n",
        "  test = stats.normaltest(s)\n",
        "  pvalues.append(test.pvalue)\n",
        "\n",
        "kw_test = stats.kruskal(*s_)\n",
        "#resultado importante del test (medianas por ser no parametrico)\n",
        "kw_test"
      ],
      "metadata": {
        "id": "Y4qcZYdvxa0B"
      },
      "execution_count": null,
      "outputs": []
    },
    {
      "cell_type": "code",
      "source": [
        "pvalues"
      ],
      "metadata": {
        "id": "UuXZgHKHx_Y_"
      },
      "execution_count": null,
      "outputs": []
    },
    {
      "cell_type": "code",
      "source": [
        "# Supongamos que 's_' es tu lista de series, donde cada serie corresponde a un grupo diferente.\n",
        "# El número total de comparaciones es n*(n-1)/2, donde n es el número de grupos.\n",
        "\n",
        "# Calcula el número total de comparaciones\n",
        "num_comparisons = len(s_) * (len(s_) - 1) / 2\n",
        "\n",
        "# Nivel de significancia ajustado\n",
        "alpha_adjusted = 0.05 / num_comparisons\n",
        "\n",
        "# Lista para almacenar los resultados\n",
        "post_hoc_results = []\n",
        "\n",
        "# Itera sobre cada combinación única de pares de grupos\n",
        "for group1, group2 in itertools.combinations(range(len(s_)), 2):\n",
        "    stat, pvalue = mannwhitneyu(s_[group1], s_[group2], alternative='two-sided')\n",
        "    # Añade los resultados a la lista\n",
        "    post_hoc_results.append({\n",
        "        'Grupo1': group1,\n",
        "        'Grupo2': group2,\n",
        "        'U-Statistic': stat,\n",
        "        'P-Value': pvalue,\n",
        "        'Significativo': pvalue < alpha_adjusted\n",
        "    })\n",
        "\n",
        "# Convierte los resultados a un DataFrame para una mejor visualización\n",
        "post_hoc_df = pd.DataFrame(post_hoc_results)\n",
        "\n",
        "# Muestra los resultados\n",
        "print(post_hoc_df)"
      ],
      "metadata": {
        "id": "tYrKJ0kZlYsC"
      },
      "execution_count": null,
      "outputs": []
    },
    {
      "cell_type": "code",
      "source": [
        "h7 = data.groupby(['ESTU_METODO_PRGM']).describe()\n",
        "#h7 = h7.sort_values(by = ['PUNT_GLOBAL'], ascending = True)\n",
        "h7\n",
        "fig, ax = plt.subplots(1,1,figsize=(10,5), dpi = 100)\n",
        "mat_punt = sns.violinplot(x = data[\"ESTU_METODO_PRGM\"], y = data[\"PUNT_GLOBAL\"], ax = ax, order=h7.index)\n",
        "labs = ax.set(xlabel='Condición', ylabel='Puntaje')\n",
        "plt.xticks(rotation = -30, ha = \"left\")"
      ],
      "metadata": {
        "id": "yAVEVj7ENVvQ"
      },
      "execution_count": null,
      "outputs": []
    },
    {
      "cell_type": "markdown",
      "source": [
        "###**Carácter Académico**"
      ],
      "metadata": {
        "id": "XkU3o4VKNiIa"
      }
    },
    {
      "cell_type": "code",
      "source": [
        "data['INST_CARACTER_ACADEMICO'].unique()"
      ],
      "metadata": {
        "id": "3b2p8-dVmCwd"
      },
      "execution_count": null,
      "outputs": []
    },
    {
      "cell_type": "code",
      "source": [
        "h2 = data.groupby(['INST_CARACTER_ACADEMICO'])['PUNT_GLOBAL'].mean().reset_index()\n",
        "h2 = h2.sort_values(by=['INST_CARACTER_ACADEMICO'], ascending=True)\n",
        "print(h2)"
      ],
      "metadata": {
        "id": "LC_Fp3IiNtRB"
      },
      "execution_count": null,
      "outputs": []
    },
    {
      "cell_type": "code",
      "source": [
        "#test de kruskal\n",
        "\n",
        "l = data.INST_CARACTER_ACADEMICO.value_counts().index\n",
        "pvalues = []\n",
        "s_ = []\n",
        "\n",
        "for k,m in enumerate(l):\n",
        "  s = data.loc[data[\"INST_CARACTER_ACADEMICO\"]== m,\"PUNT_GLOBAL\"]\n",
        "  s_.append(s)\n",
        "  test = stats.normaltest(s)\n",
        "  pvalues.append(test.pvalue)\n",
        "\n",
        "kw_test = stats.kruskal(*s_)"
      ],
      "metadata": {
        "id": "sS6YmiERyrEK"
      },
      "execution_count": null,
      "outputs": []
    },
    {
      "cell_type": "code",
      "source": [
        "#resultado importante del test (medianas por ser no parametrico)\n",
        "kw_test"
      ],
      "metadata": {
        "id": "X7sa4sK3yxGB"
      },
      "execution_count": null,
      "outputs": []
    },
    {
      "cell_type": "code",
      "source": [
        "pvalues"
      ],
      "metadata": {
        "id": "pCDFPx4ty7eJ"
      },
      "execution_count": null,
      "outputs": []
    },
    {
      "cell_type": "code",
      "source": [
        "# Supongamos que 's_' es tu lista de series, donde cada serie corresponde a un grupo diferente.\n",
        "# El número total de comparaciones es n*(n-1)/2, donde n es el número de grupos.\n",
        "\n",
        "# Calcula el número total de comparaciones\n",
        "num_comparisons = len(s_) * (len(s_) - 1) / 2\n",
        "\n",
        "# Nivel de significancia ajustado\n",
        "alpha_adjusted = 0.05 / num_comparisons\n",
        "\n",
        "# Lista para almacenar los resultados\n",
        "post_hoc_results = []\n",
        "\n",
        "# Itera sobre cada combinación única de pares de grupos\n",
        "for group1, group2 in itertools.combinations(range(len(s_)), 2):\n",
        "    stat, pvalue = mannwhitneyu(s_[group1], s_[group2], alternative='two-sided')\n",
        "    # Añade los resultados a la lista\n",
        "    post_hoc_results.append({\n",
        "        'Grupo1': group1,\n",
        "        'Grupo2': group2,\n",
        "        'U-Statistic': stat,\n",
        "        'P-Value': pvalue,\n",
        "        'Significativo': pvalue < alpha_adjusted\n",
        "    })\n",
        "\n",
        "# Convierte los resultados a un DataFrame para una mejor visualización\n",
        "post_hoc_df = pd.DataFrame(post_hoc_results)\n",
        "\n",
        "# Muestra los resultados\n",
        "print(post_hoc_df)"
      ],
      "metadata": {
        "id": "Fy9XNEvny9VO"
      },
      "execution_count": null,
      "outputs": []
    },
    {
      "cell_type": "code",
      "source": [
        "icaracter = {\n",
        "    \"TÉCNICA PROFESIONAL\" : \"TÉCNICA O TECNOLÓGICA\",\n",
        "    \"INSTITUCIÓN TECNOLÓGICA\": \"TÉCNICA O TECNOLÓGICA\"\n",
        "} # Agruapación de valores"
      ],
      "metadata": {
        "id": "RtkTIGDkO-_o"
      },
      "execution_count": null,
      "outputs": []
    },
    {
      "cell_type": "code",
      "source": [
        "data['INST_CARACTER_ACADEMICOB']= data['INST_CARACTER_ACADEMICO'].replace(icaracter) # reemplazo de valores de acuerdo a la categoría establecida"
      ],
      "metadata": {
        "id": "ZBcxWC3VmqMJ"
      },
      "execution_count": null,
      "outputs": []
    },
    {
      "cell_type": "code",
      "source": [
        "h3B = data.groupby('INST_CARACTER_ACADEMICOB').mean()\n",
        "h3B = h3B.sort_values(by = ['PUNT_GLOBAL'], ascending = True)\n",
        "h3B"
      ],
      "metadata": {
        "id": "FySyWsx6N-gx"
      },
      "execution_count": null,
      "outputs": []
    },
    {
      "cell_type": "code",
      "source": [
        "fig, ax = plt.subplots(1,1,figsize=(10,5), dpi = 100)\n",
        "mat_punt = sns.violinplot(x = data['INST_CARACTER_ACADEMICOB'], y = data[\"PUNT_GLOBAL\"], ax = ax, order=h3B.index)\n",
        "labs = ax.set(xlabel='Condición', ylabel='Puntaje')\n",
        "plt.xticks(rotation = -30, ha = \"left\")"
      ],
      "metadata": {
        "id": "0DSgJW0nN6S5"
      },
      "execution_count": null,
      "outputs": []
    },
    {
      "cell_type": "code",
      "source": [],
      "metadata": {
        "id": "foC0SSaAntWQ"
      },
      "execution_count": null,
      "outputs": []
    },
    {
      "cell_type": "markdown",
      "source": [
        "###tablas dinamicas"
      ],
      "metadata": {
        "id": "hnnqakA_S87B"
      }
    },
    {
      "cell_type": "code",
      "source": [
        "# Realizas la agrupación por las categorías deseadas\n",
        "grouped = data.groupby(['ESTU_VALORMATRICULAUNIVERSIDADB', 'ESTU_METODO_PRGM', 'INST_CARACTER_ACADEMICOB'])\n",
        "\n",
        "# Calculas el promedio de 'PUNT_GLOBAL'\n",
        "mean_scores = grouped['PUNT_GLOBAL'].mean().reset_index(name='MEAN_PUNT_GLOBAL')\n",
        "\n",
        "# Calculas el conteo para cada grupo usando la misma agrupación\n",
        "counts = grouped['PUNT_GLOBAL'].count().reset_index(name='COUNT')\n",
        "\n",
        "# Combina los resultados del promedio con los conteos\n",
        "result = pd.merge(mean_scores, counts, on=['ESTU_METODO_PRGM', 'INST_CARACTER_ACADEMICOB', 'ESTU_VALORMATRICULAUNIVERSIDADB'])\n",
        "\n",
        "result"
      ],
      "metadata": {
        "id": "Bn2W_lPxS6bR"
      },
      "execution_count": null,
      "outputs": []
    },
    {
      "cell_type": "code",
      "source": [
        "# Ordenas el DataFrame por el promedio de 'PUNT_GLOBAL' de forma descendente\n",
        "result.sort_values(by='MEAN_PUNT_GLOBAL', ascending=False).reset_index(drop=True)"
      ],
      "metadata": {
        "id": "kwsPTfBtWyBv"
      },
      "execution_count": null,
      "outputs": []
    },
    {
      "cell_type": "markdown",
      "source": [
        "# arbol de decision\n"
      ],
      "metadata": {
        "id": "P9l6nVGdnuMh"
      }
    },
    {
      "cell_type": "markdown",
      "source": [
        "## split data"
      ],
      "metadata": {
        "id": "-2YuWOvaoCM5"
      }
    },
    {
      "cell_type": "code",
      "source": [
        "select_cols = ['ESTU_VALORMATRICULAUNIVERSIDADB','ESTU_METODO_PRGM','INST_CARACTER_ACADEMICOB','PUNT_GLOBAL']"
      ],
      "metadata": {
        "id": "2OB0BKXbnyqy"
      },
      "execution_count": null,
      "outputs": []
    },
    {
      "cell_type": "code",
      "source": [
        "df = data[select_cols]"
      ],
      "metadata": {
        "id": "lz3yZRFJoFly"
      },
      "execution_count": null,
      "outputs": []
    },
    {
      "cell_type": "code",
      "source": [
        "df = df.dropna()"
      ],
      "metadata": {
        "id": "8Ga2sFbJoQza"
      },
      "execution_count": null,
      "outputs": []
    },
    {
      "cell_type": "code",
      "source": [
        "df.describe()"
      ],
      "metadata": {
        "id": "ZPZeX7AloSxh"
      },
      "execution_count": null,
      "outputs": []
    },
    {
      "cell_type": "code",
      "source": [
        "df_train, df_test = train_test_split(df, test_size=0.2, random_state=1)"
      ],
      "metadata": {
        "id": "l1jBvPXtoajq"
      },
      "execution_count": null,
      "outputs": []
    },
    {
      "cell_type": "code",
      "source": [
        "df_train = df_train.reset_index(drop=True)\n",
        "df_test = df_test.reset_index(drop=True)"
      ],
      "metadata": {
        "id": "Jtqp8O8fbKDG"
      },
      "execution_count": null,
      "outputs": []
    },
    {
      "cell_type": "code",
      "source": [
        "y_train = df_train.PUNT_GLOBAL.values\n",
        "y_test = df_test.PUNT_GLOBAL.values"
      ],
      "metadata": {
        "id": "rH8FqG1go7S6"
      },
      "execution_count": null,
      "outputs": []
    },
    {
      "cell_type": "code",
      "source": [
        "del df_train['PUNT_GLOBAL']\n",
        "del df_test['PUNT_GLOBAL']"
      ],
      "metadata": {
        "id": "P52lG5_jpBtL"
      },
      "execution_count": null,
      "outputs": []
    },
    {
      "cell_type": "code",
      "source": [
        "train_dicts = df_train.to_dict(orient='records')\n",
        "dv = DictVectorizer(sparse=False)\n",
        "X_train = dv.fit_transform(train_dicts)"
      ],
      "metadata": {
        "id": "F7b1hnArrkza"
      },
      "execution_count": null,
      "outputs": []
    },
    {
      "cell_type": "code",
      "source": [
        "test_dicts = df_test.to_dict(orient='records')\n",
        "X_test = dv.transform(test_dicts)"
      ],
      "metadata": {
        "id": "JwzWxH9SrntV"
      },
      "execution_count": null,
      "outputs": []
    },
    {
      "cell_type": "markdown",
      "source": [
        "##arbol de regresión"
      ],
      "metadata": {
        "id": "wHp2wY0BsSN6"
      }
    },
    {
      "cell_type": "code",
      "source": [
        "dt = DecisionTreeRegressor(max_depth=4)\n",
        "dt.fit(X_train, y_train)"
      ],
      "metadata": {
        "id": "7MO3IYa1sjWr"
      },
      "execution_count": null,
      "outputs": []
    },
    {
      "cell_type": "code",
      "source": [
        "feature_names = dv.get_feature_names_out()\n",
        "print(feature_names)"
      ],
      "metadata": {
        "id": "bHnlZfntxSRy"
      },
      "execution_count": null,
      "outputs": []
    },
    {
      "cell_type": "code",
      "source": [
        "# Nuevo array con los nombres propuestos en orden\n",
        "new_feature_names = [\n",
        "    'Distancia',\n",
        "    'DistVirDtual',\n",
        "    'Presencial',\n",
        "    'Valor_>7M',\n",
        "    'Valor_1-2.5M',\n",
        "    'Valor_2.5-4M',\n",
        "    'Valor_4-5.5M',\n",
        "    'Valor_5.5-7M',\n",
        "    'Valor_<1M',\n",
        "    'Inst_Universitaria',\n",
        "    'Inst_Tecnica',\n",
        "    'Universidad',\n",
        "]"
      ],
      "metadata": {
        "id": "YmM03vb4Z7LP"
      },
      "execution_count": null,
      "outputs": []
    },
    {
      "cell_type": "code",
      "source": [
        "print(export_text(dt, feature_names=new_feature_names))"
      ],
      "metadata": {
        "id": "ALDcHr7yzhEb"
      },
      "execution_count": null,
      "outputs": []
    },
    {
      "cell_type": "code",
      "source": [
        "plt.figure(figsize=(17,6))\n",
        "plot_tree(dt, feature_names=new_feature_names, filled=True, rounded = True, fontsize = 8)\n",
        "plt.show()"
      ],
      "metadata": {
        "id": "dkQpsN68yxRC"
      },
      "execution_count": null,
      "outputs": []
    },
    {
      "cell_type": "code",
      "source": [
        "y_pred = dt.predict(X_test)"
      ],
      "metadata": {
        "id": "2nDu1fLPtFwY"
      },
      "execution_count": null,
      "outputs": []
    },
    {
      "cell_type": "code",
      "source": [
        "ms = mean_squared_error(y_test, y_pred)"
      ],
      "metadata": {
        "id": "MrwKyRLXtGRi"
      },
      "execution_count": null,
      "outputs": []
    },
    {
      "cell_type": "code",
      "source": [
        "RMSE = np.sqrt(ms)\n",
        "RMSE"
      ],
      "metadata": {
        "id": "doOyE-08tIZ7"
      },
      "execution_count": null,
      "outputs": []
    },
    {
      "cell_type": "code",
      "source": [
        "importancesdt = dt.feature_importances_\n"
      ],
      "metadata": {
        "id": "By0wKPb61yty"
      },
      "execution_count": null,
      "outputs": []
    },
    {
      "cell_type": "code",
      "source": [
        "dt_importances = pd.Series(importancesdt, index=new_feature_names)\n",
        "\n",
        "fig, ax = plt.subplots(1,1, figsize=(10,6), dpi = 100)\n",
        "dt_importances.plot.bar( ax=ax)\n",
        "ax.set_xticklabels(new_feature_names)\n",
        "ax.set_title(\"Relevancia por variable mediante decrecimiento de la impureza media\")\n",
        "ax.set_ylabel(\"Decrecimiento de la impureza media\")\n",
        "fig.tight_layout()"
      ],
      "metadata": {
        "id": "GUKWAmbm2DSQ"
      },
      "execution_count": null,
      "outputs": []
    },
    {
      "cell_type": "code",
      "source": [
        "# Creamos la tabla de importancias\n",
        "importance_table = pd.DataFrame({\n",
        "    'Feature': dt_importances.index,\n",
        "    'Importance': dt_importances.values\n",
        "})\n",
        "\n",
        "# Ordenamos la tabla por importancia de manera descendente\n",
        "importance_table = importance_table.sort_values('Importance', ascending=False)\n",
        "\n",
        "# Suponiendo que 'importance_table' es tu DataFrame con la tabla de importancia\n",
        "importance_table['Importance'] = importance_table['Importance'].round(4)\n",
        "\n",
        "# Mostramos la tabla\n",
        "print(importance_table)"
      ],
      "metadata": {
        "id": "ybN9O0WEciE_"
      },
      "execution_count": null,
      "outputs": []
    },
    {
      "cell_type": "markdown",
      "source": [
        "#Posibles inconsistencias"
      ],
      "metadata": {
        "id": "g191lnsPncu7"
      }
    },
    {
      "cell_type": "code",
      "source": [
        "data2 = df[(df['ESTU_VALORMATRICULAUNIVERSIDADB']=='Más de 7 millones') & (df['ESTU_METODO_PRGM'] != 'PRESENCIAL')]\n",
        "#data = data2[]\n",
        "data2"
      ],
      "metadata": {
        "id": "pp3VPTT5RYTe"
      },
      "execution_count": null,
      "outputs": []
    },
    {
      "cell_type": "code",
      "source": [
        "data2 = df[(df['ESTU_VALORMATRICULAUNIVERSIDADB']=='Más de 7 millones') & (df['INST_CARACTER_ACADEMICOB'] != 'UNIVERSIDAD')]\n",
        "#data = data2[]\n",
        "data2"
      ],
      "metadata": {
        "id": "pojIH8Lp2Y-a"
      },
      "execution_count": null,
      "outputs": []
    },
    {
      "cell_type": "code",
      "source": [
        "data2 = data[(data['ESTU_VALORMATRICULAUNIVERSIDAD']=='Más de 7 millones') & (data['INST_CARACTER_ACADEMICO'] == 'TÉCNICA PROFESIONAL')]\n",
        "#data = data2[]\n",
        "data2"
      ],
      "metadata": {
        "id": "dAeDTy6l3yOr"
      },
      "execution_count": null,
      "outputs": []
    },
    {
      "cell_type": "code",
      "source": [
        "    #\"TÉCNICA PROFESIONAL\" : \"TÉCNICA O TECNOLÓGICA\",\n",
        "    #\"INSTITUCIÓN TECNOLÓGICA\": \"TÉCNICA O TECNOLÓGICA\"\n",
        "\n",
        "data2 = data[(data['ESTU_VALORMATRICULAUNIVERSIDADB']=='entre 5.5 y 7 millones') & (data['INST_CARACTER_ACADEMICO'] == 'TÉCNICA PROFESIONAL')]\n",
        "#data = data2[]\n",
        "data2"
      ],
      "metadata": {
        "id": "nSwhU9944h5w"
      },
      "execution_count": null,
      "outputs": []
    },
    {
      "cell_type": "code",
      "source": [
        "import os\n",
        "\n",
        "# Busca el cuaderno en el directorio actual\n",
        "nombre_cuaderno = \"SABER PRO_RESULTADOS.ipynb\"\n",
        "ruta_cuaderno = nombre_cuaderno\n",
        "\n",
        "if os.path.exists(ruta_cuaderno):\n",
        "    print(f\"El cuaderno {nombre_cuaderno} se encuentra en la ruta: {ruta_cuaderno}\")\n",
        "else:\n",
        "    print(f\"El cuaderno {nombre_cuaderno} no se encuentra en el directorio actual.\")\n",
        "\n",
        "# Intenta convertir el cuaderno solo si se encuentra\n",
        "if os.path.exists(ruta_cuaderno):\n",
        "    # Ejecuta nbconvert para convertir el cuaderno a PDF\n",
        "    !jupyter nbconvert \"$ruta_cuaderno\" --to pdf --output-dir=\"/content/downloads\"\n",
        "\n",
        "    # Muestra un enlace para descargar el PDF\n",
        "    ruta_pdf = f\"/content/downloads/{nombre_cuaderno.replace('.ipynb', '.pdf')}\"\n",
        "    from IPython.display import FileLink\n",
        "    FileLink(ruta_pdf)\n",
        "else:\n",
        "    print(\"No se puede convertir el cuaderno porque no se encuentra en el directorio actual.\")\n"
      ],
      "metadata": {
        "id": "w0HgFIYU1l_l"
      },
      "execution_count": null,
      "outputs": []
    }
  ]
}